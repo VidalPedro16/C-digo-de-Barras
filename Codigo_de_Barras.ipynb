{
  "nbformat": 4,
  "nbformat_minor": 0,
  "metadata": {
    "colab": {
      "provenance": []
    },
    "kernelspec": {
      "name": "python3",
      "display_name": "Python 3"
    },
    "language_info": {
      "name": "python"
    }
  },
  "cells": [
    {
      "cell_type": "code",
      "execution_count": 2,
      "metadata": {
        "colab": {
          "base_uri": "https://localhost:8080/",
          "height": 401
        },
        "id": "5uGivNAEMQ0L",
        "outputId": "30ccab86-1fb1-45d7-fccb-a274f425670b"
      },
      "outputs": [
        {
          "output_type": "stream",
          "name": "stdout",
          "text": [
            "Collecting python-barcode\n",
            "  Downloading python_barcode-0.15.1-py3-none-any.whl.metadata (2.3 kB)\n",
            "Downloading python_barcode-0.15.1-py3-none-any.whl (212 kB)\n",
            "\u001b[2K   \u001b[90m━━━━━━━━━━━━━━━━━━━━━━━━━━━━━━━━━━━━━━━━\u001b[0m \u001b[32m213.0/213.0 kB\u001b[0m \u001b[31m3.4 MB/s\u001b[0m eta \u001b[36m0:00:00\u001b[0m\n",
            "\u001b[?25hInstalling collected packages: python-barcode\n",
            "Successfully installed python-barcode-0.15.1\n"
          ]
        },
        {
          "output_type": "display_data",
          "data": {
            "image/png": "[encoded data removed]",
            "text/plain": [
              "<IPython.core.display.Image object>"
            ]
          },
          "metadata": {}
        }
      ],
      "source": [
        "# Instale a biblioteca antes de começar\n",
        "!pip install python-barcode\n",
        "\n",
        "import barcode\n",
        "from barcode.writer import ImageWriter\n",
        "from IPython.display import Image, display\n",
        "\n",
        "# Define o tipo de código de barras (EAN-13)\n",
        "barcode_format = barcode.get_barcode_class('ean13')\n",
        "\n",
        "# Número para o código de barras\n",
        "barcode_number = '123456789012'\n",
        "\n",
        "# Criação da imagem do código de barras\n",
        "barcode_image = barcode_format(barcode_number, writer=ImageWriter())\n",
        "\n",
        "# Nome do arquivo e salvamento da imagem\n",
        "barcode_filename = 'barcode_image'\n",
        "barcode_image.save(barcode_filename)\n",
        "\n",
        "# Exibe a imagem\n",
        "display(Image(filename=f'{barcode_filename}.png'))\n"
      ]
    }
  ]
}